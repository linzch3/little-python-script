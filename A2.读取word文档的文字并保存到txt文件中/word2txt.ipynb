{
 "cells": [
  {
   "cell_type": "code",
   "execution_count": 19,
   "metadata": {
    "collapsed": false
   },
   "outputs": [
    {
     "name": "stdout",
     "output_type": "stream",
     "text": [
      "-----------------------------------------------\r\n",
      "使用python读取word文档的文字，并保存到txt文件中。\r\n",
      "------------------------------------------------\r\n",
      "测试段落1\r\n",
      "\t测试段落2\r\n",
      "\t\t测试段落3\r\n",
      "测试完毕\r\n",
      "-------------------------------------------------\r\n"
     ]
    }
   ],
   "source": [
    "from win32com import client as wc\n",
    "import os\n",
    "word = wc.Dispatch('Word.Application')\n",
    "doc = word.Documents.Open(os.path.join(os.getcwd(),'test.docx'))#要使用绝对路径\n",
    "#输出每一段的文字\n",
    "for para in doc.paragraphs :\n",
    "    print(para)\n",
    "#保存到txt文件中\n",
    "doc.SaveAs(os.path.join(os.getcwd(),'test.txt'), 4)\n",
    "#\n",
    "doc.Close()"
   ]
  }
 ],
 "metadata": {
  "anaconda-cloud": {},
  "kernelspec": {
   "display_name": "Python [conda root]",
   "language": "python",
   "name": "conda-root-py"
  },
  "language_info": {
   "codemirror_mode": {
    "name": "ipython",
    "version": 3
   },
   "file_extension": ".py",
   "mimetype": "text/x-python",
   "name": "python",
   "nbconvert_exporter": "python",
   "pygments_lexer": "ipython3",
   "version": "3.5.2"
  }
 },
 "nbformat": 4,
 "nbformat_minor": 1
}
