{
 "cells": [
  {
   "cell_type": "code",
   "execution_count": null,
   "metadata": {
    "collapsed": true
   },
   "outputs": [],
   "source": [
    "import pandas\n",
    "from collections import Counter\n",
    "from functools import reduce\n",
    "\n",
    "def getWordFreq(inStrList):\n",
    "    '''得到输入的元素为str的list的词频'''\n",
    "    inStrList=[i.lower() for i in inStrList]#转换成小写\n",
    "    df = pandas.DataFrame.from_dict(Counter(inStrList), orient='index').reset_index()#根据Counter统计的词频初始化df\n",
    "    df = df.rename(columns={'index':'words', 0:'count'}).sort_values([\"count\"],ascending=False)#根据count值降序排序\n",
    "    #df.words=df.words.str.lower()\n",
    "    #加载英文停用词\n",
    "    stopwords=[]\n",
    "    with open('stopwords-en.txt','r',encoding='utf-8') as f:\n",
    "        for i in f.readlines():\n",
    "            stopwords.append(i.strip())\n",
    "    newdf = df[~df.words.isin(stopwords)]#去除停用词\n",
    "    df2 = pandas.DataFrame(newdf.words.unique()).rename(columns={ 0:'words'})#得到words唯一的列\n",
    "    df2.insert(1,'count',[0]*len(df2))#插入count列，初始值为0\n",
    "    #合并words值相同的count列\n",
    "    for w in df2.words:\n",
    "        totCount=reduce(lambda x,y:x+y,newdf[newdf['words']==w]['count'].values)\n",
    "        df2.loc[df2[df2['words']==w].index,'count']=totCount\n",
    "    df2 = df2.sort_values([\"count\"],ascending=False)#根据count值降序排序\n",
    "    return df2\n"
   ]
  }
 ],
 "metadata": {
  "anaconda-cloud": {},
  "kernelspec": {
   "display_name": "Python [conda root]",
   "language": "python",
   "name": "conda-root-py"
  },
  "language_info": {
   "codemirror_mode": {
    "name": "ipython",
    "version": 3
   },
   "file_extension": ".py",
   "mimetype": "text/x-python",
   "name": "python",
   "nbconvert_exporter": "python",
   "pygments_lexer": "ipython3",
   "version": "3.5.2"
  }
 },
 "nbformat": 4,
 "nbformat_minor": 1
}
