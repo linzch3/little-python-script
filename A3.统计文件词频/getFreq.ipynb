{
 "cells": [
  {
   "cell_type": "markdown",
   "metadata": {},
   "source": [
    "这里使用两种方式来实现 词频统计：\n",
    " - 1.自己用pandas结合Counter实现\n",
    " - 2.实现nltk库中的函数"
   ]
  },
  {
   "cell_type": "markdown",
   "metadata": {},
   "source": [
    "# 方法1"
   ]
  },
  {
   "cell_type": "markdown",
   "metadata": {},
   "source": [
    "### 函数实现"
   ]
  },
  {
   "cell_type": "code",
   "execution_count": 1,
   "metadata": {
    "collapsed": true
   },
   "outputs": [],
   "source": [
    "import pandas\n",
    "from collections import Counter\n",
    "from functools import reduce\n",
    "\n",
    "def getWordFreq(inStrList, stopwords=[]):\n",
    "    '''得到输入的元素为str的list的词频'''\n",
    "    inStrList=[i.lower() for i in inStrList]#转换成小写，sylvia和SYLVIA应被当成同一个词\n",
    "    df = pandas.DataFrame.from_dict(Counter(inStrList), orient='index').reset_index()#根据Counter统计的词频初始化df\n",
    "    df = df.rename(columns={'index':'words', 0:'count'}).sort_values([\"count\"],ascending=False)#根据count值降序排序\n",
    "    df = df[~df.words.isin(stopwords)]#去除停用词\n",
    "    return df"
   ]
  },
  {
   "cell_type": "markdown",
   "metadata": {},
   "source": [
    "### 函数测试"
   ]
  },
  {
   "cell_type": "code",
   "execution_count": 2,
   "metadata": {},
   "outputs": [
    {
     "name": "stdout",
     "output_type": "stream",
     "text": [
      "['sylvia', 'SYLvia', 'SYLVIA', 'you', 'are', 'my', 'sweet', 'heart', 'sweet', 'sweet', 'heart', 'LOVE', 'you', 'so', 'much']\n"
     ]
    }
   ],
   "source": [
    "#获取英文的停用词\n",
    "stopwords=[]\n",
    "with open('stopwords-en.txt','r',encoding='utf-8') as f:\n",
    "    for i in f.readlines():\n",
    "        stopwords.append(i.strip())\n",
    "#获取英文测试文件\n",
    "testStrList=[]\n",
    "with open('test-en.txt','r',encoding='utf-8') as f:\n",
    "    for i in f.readlines():\n",
    "        testStrList.append(i.strip())\n",
    "print(testStrList)"
   ]
  },
  {
   "cell_type": "code",
   "execution_count": 3,
   "metadata": {},
   "outputs": [
    {
     "data": {
      "text/html": [
       "<div>\n",
       "<table border=\"1\" class=\"dataframe\">\n",
       "  <thead>\n",
       "    <tr style=\"text-align: right;\">\n",
       "      <th></th>\n",
       "      <th>words</th>\n",
       "      <th>count</th>\n",
       "    </tr>\n",
       "  </thead>\n",
       "  <tbody>\n",
       "    <tr>\n",
       "      <th>1</th>\n",
       "      <td>sylvia</td>\n",
       "      <td>3</td>\n",
       "    </tr>\n",
       "    <tr>\n",
       "      <th>7</th>\n",
       "      <td>sweet</td>\n",
       "      <td>3</td>\n",
       "    </tr>\n",
       "    <tr>\n",
       "      <th>3</th>\n",
       "      <td>heart</td>\n",
       "      <td>2</td>\n",
       "    </tr>\n",
       "    <tr>\n",
       "      <th>2</th>\n",
       "      <td>love</td>\n",
       "      <td>1</td>\n",
       "    </tr>\n",
       "  </tbody>\n",
       "</table>\n",
       "</div>"
      ],
      "text/plain": [
       "    words  count\n",
       "1  sylvia      3\n",
       "7   sweet      3\n",
       "3   heart      2\n",
       "2    love      1"
      ]
     },
     "execution_count": 3,
     "metadata": {},
     "output_type": "execute_result"
    }
   ],
   "source": [
    "getWordFreq(testStrList, stopwords)#有停用词"
   ]
  },
  {
   "cell_type": "code",
   "execution_count": 4,
   "metadata": {},
   "outputs": [
    {
     "data": {
      "text/html": [
       "<div>\n",
       "<table border=\"1\" class=\"dataframe\">\n",
       "  <thead>\n",
       "    <tr style=\"text-align: right;\">\n",
       "      <th></th>\n",
       "      <th>words</th>\n",
       "      <th>count</th>\n",
       "    </tr>\n",
       "  </thead>\n",
       "  <tbody>\n",
       "    <tr>\n",
       "      <th>1</th>\n",
       "      <td>sylvia</td>\n",
       "      <td>3</td>\n",
       "    </tr>\n",
       "    <tr>\n",
       "      <th>7</th>\n",
       "      <td>sweet</td>\n",
       "      <td>3</td>\n",
       "    </tr>\n",
       "    <tr>\n",
       "      <th>0</th>\n",
       "      <td>you</td>\n",
       "      <td>2</td>\n",
       "    </tr>\n",
       "    <tr>\n",
       "      <th>3</th>\n",
       "      <td>heart</td>\n",
       "      <td>2</td>\n",
       "    </tr>\n",
       "    <tr>\n",
       "      <th>2</th>\n",
       "      <td>love</td>\n",
       "      <td>1</td>\n",
       "    </tr>\n",
       "    <tr>\n",
       "      <th>4</th>\n",
       "      <td>my</td>\n",
       "      <td>1</td>\n",
       "    </tr>\n",
       "    <tr>\n",
       "      <th>5</th>\n",
       "      <td>much</td>\n",
       "      <td>1</td>\n",
       "    </tr>\n",
       "    <tr>\n",
       "      <th>6</th>\n",
       "      <td>are</td>\n",
       "      <td>1</td>\n",
       "    </tr>\n",
       "    <tr>\n",
       "      <th>8</th>\n",
       "      <td>so</td>\n",
       "      <td>1</td>\n",
       "    </tr>\n",
       "  </tbody>\n",
       "</table>\n",
       "</div>"
      ],
      "text/plain": [
       "    words  count\n",
       "1  sylvia      3\n",
       "7   sweet      3\n",
       "0     you      2\n",
       "3   heart      2\n",
       "2    love      1\n",
       "4      my      1\n",
       "5    much      1\n",
       "6     are      1\n",
       "8      so      1"
      ]
     },
     "execution_count": 4,
     "metadata": {},
     "output_type": "execute_result"
    }
   ],
   "source": [
    "getWordFreq(testStrList)#无停用词"
   ]
  },
  {
   "cell_type": "markdown",
   "metadata": {},
   "source": [
    "# 方法二"
   ]
  },
  {
   "cell_type": "code",
   "execution_count": 5,
   "metadata": {
    "collapsed": true
   },
   "outputs": [],
   "source": [
    "from nltk import FreqDist\n",
    "def getWordFreq2(inStrList, stopwords=[]):\n",
    "    '''得到输入的元素为str的list的词频(前10个)'''\n",
    "    inStrList = [i.lower() for i in inStrList if i not in stopwords]\n",
    "    fdist = FreqDist(inStrList)\n",
    "    return fdist.most_common(10)"
   ]
  },
  {
   "cell_type": "code",
   "execution_count": 6,
   "metadata": {},
   "outputs": [
    {
     "data": {
      "text/plain": [
       "[('sylvia', 3), ('sweet', 3), ('heart', 2), ('love', 1)]"
      ]
     },
     "execution_count": 6,
     "metadata": {},
     "output_type": "execute_result"
    }
   ],
   "source": [
    "getWordFreq2(testStrList, stopwords)#有停用词"
   ]
  },
  {
   "cell_type": "code",
   "execution_count": 7,
   "metadata": {},
   "outputs": [
    {
     "data": {
      "text/plain": [
       "[('sylvia', 3),\n",
       " ('sweet', 3),\n",
       " ('you', 2),\n",
       " ('heart', 2),\n",
       " ('love', 1),\n",
       " ('my', 1),\n",
       " ('much', 1),\n",
       " ('are', 1),\n",
       " ('so', 1)]"
      ]
     },
     "execution_count": 7,
     "metadata": {},
     "output_type": "execute_result"
    }
   ],
   "source": [
    "getWordFreq2(testStrList)#无停用词"
   ]
  },
  {
   "cell_type": "markdown",
   "metadata": {},
   "source": [
    "番外：一个小测试，有时对于英文文本来说，可能想要得到是 英文词组 的词频，而不是单个词的词频，因此可实现如下函数。"
   ]
  },
  {
   "cell_type": "code",
   "execution_count": 8,
   "metadata": {},
   "outputs": [
    {
     "data": {
      "text/plain": [
       "[(('sweet', 'heart'), 2),\n",
       " (('sylvia', 'sylvia'), 2),\n",
       " (('sylvia', 'sweet'), 1),\n",
       " (('heart', 'love'), 1),\n",
       " (('sweet', 'sweet'), 1),\n",
       " (('heart', 'sweet'), 1)]"
      ]
     },
     "execution_count": 8,
     "metadata": {},
     "output_type": "execute_result"
    }
   ],
   "source": [
    "from nltk import FreqDist, ngrams\n",
    "def getWordFreq3(inStrList, n=1):\n",
    "    '''得到输入的元素为str的list的词组词频(前10个)'''\n",
    "    inStrList = [i.lower() for i in inStrList if i not in stopwords]\n",
    "    fdist = FreqDist(ngrams(inStrList, n))\n",
    "    return fdist.most_common(10)\n",
    "getWordFreq3(testStrList, n=2)#感觉先去停用词好像就会影响词组？？后续再查下资料"
   ]
  }
 ],
 "metadata": {
  "anaconda-cloud": {},
  "kernelspec": {
   "display_name": "Python [conda root]",
   "language": "python",
   "name": "conda-root-py"
  },
  "language_info": {
   "codemirror_mode": {
    "name": "ipython",
    "version": 3
   },
   "file_extension": ".py",
   "mimetype": "text/x-python",
   "name": "python",
   "nbconvert_exporter": "python",
   "pygments_lexer": "ipython3",
   "version": "3.5.2"
  }
 },
 "nbformat": 4,
 "nbformat_minor": 1
}
